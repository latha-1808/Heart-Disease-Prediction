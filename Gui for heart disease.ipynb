{
 "cells": [
  {
   "cell_type": "code",
   "execution_count": 1,
   "id": "ddfc7354-7ceb-4f58-800a-d8f51e490b0f",
   "metadata": {},
   "outputs": [
    {
     "name": "stderr",
     "output_type": "stream",
     "text": [
      "WARNING:absl:Compiled the loaded model, but the compiled metrics have yet to be built. `model.compile_metrics` will be empty until you train or evaluate the model.\n"
     ]
    }
   ],
   "source": [
    "import tkinter as tk\n",
    "from tkinter import messagebox\n",
    "import numpy as np\n",
    "import tensorflow as tf\n",
    "\n",
    "model = tf.keras.models.load_model('heart_disease_model-2.h5')\n",
    "\n",
    "root = tk.Tk()\n",
    "root.title('Heart Disease Predictor')\n",
    "\n",
    "labels = [\n",
    "    'Age', 'Sex (0 = female, 1 = male)', 'Chest Pain Type (0-3)',\n",
    "    'Resting Blood Pressure', 'Cholesterol', 'Fasting Blood Sugar (0 = False, 1 = True)',\n",
    "    'Resting ECG (0-2)', 'Max Heart Rate Achieved', 'Exercise Induced Angina (0 = No, 1 = Yes)',\n",
    "    'Oldpeak (ST depression)', 'Slope (0-2)', 'Number of major vessels (0-3)',\n",
    "    'Thal (1 = normal, 2 = fixed defect, 3 = reversible defect)'\n",
    "]\n",
    "\n",
    "entries = {}\n",
    "for i, label in enumerate(labels):\n",
    "    tk.Label(root, text=label).grid(row=i, column=0)\n",
    "    entry = tk.Entry(root)\n",
    "    entry.grid(row=i, column=1)\n",
    "    entries[label] = entry\n",
    "    \n",
    "\n",
    "def predict():\n",
    "    try:\n",
    "        \n",
    "        input_data = [float(entries[label].get()) for label in labels]\n",
    "        input_data = np.array([input_data])\n",
    "        \n",
    "    \n",
    "        prediction = model.predict(input_data)[0][0]\n",
    "        \n",
    "        \n",
    "        if prediction >= 0.5:\n",
    "            messagebox.showinfo('Result', 'The person is likely to have heart disease.')\n",
    "        else:\n",
    "            messagebox.showinfo('Result', 'The person is unlikely to have heart disease.')\n",
    "    except ValueError:\n",
    "        # Show an error if input is invalid\n",
    "        messagebox.showerror('Input Error', 'Please enter valid numbers for all fields.')\n",
    "\n",
    "\n",
    "tk.Button(root, text='Predict', command=predict).grid(row=len(labels)+1, column=1)\n",
    "\n",
    "root.mainloop()\n"
   ]
  },
  {
   "cell_type": "code",
   "execution_count": null,
   "id": "67289504-f9fb-4830-8adb-49f0341d81b4",
   "metadata": {},
   "outputs": [],
   "source": []
  }
 ],
 "metadata": {
  "kernelspec": {
   "display_name": "Python 3 (ipykernel)",
   "language": "python",
   "name": "python3"
  },
  "language_info": {
   "codemirror_mode": {
    "name": "ipython",
    "version": 3
   },
   "file_extension": ".py",
   "mimetype": "text/x-python",
   "name": "python",
   "nbconvert_exporter": "python",
   "pygments_lexer": "ipython3",
   "version": "3.11.7"
  }
 },
 "nbformat": 4,
 "nbformat_minor": 5
}
